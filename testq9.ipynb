{
  "nbformat": 4,
  "nbformat_minor": 0,
  "metadata": {
    "colab": {
      "name": "testq9.ipynb",
      "provenance": [],
      "collapsed_sections": [
        "roQomLQpW4pc"
      ],
      "toc_visible": true,
      "authorship_tag": "ABX9TyNgRdDcXfoI6iklEWjzjnai",
      "include_colab_link": true
    },
    "kernelspec": {
      "name": "python3",
      "display_name": "Python 3"
    },
    "language_info": {
      "name": "python"
    }
  },
  "cells": [
    {
      "cell_type": "markdown",
      "metadata": {
        "id": "view-in-github",
        "colab_type": "text"
      },
      "source": [
        "<a href=\"https://colab.research.google.com/github/tygerlord/le-probleme-sat/blob/main/testq9.ipynb\" target=\"_parent\"><img src=\"https://colab.research.google.com/assets/colab-badge.svg\" alt=\"Open In Colab\"/></a>"
      ]
    },
    {
      "cell_type": "markdown",
      "metadata": {
        "id": "_nFbeLJYjudn"
      },
      "source": [
        "[le problème sat](https://blog.pasithee.fr/2013/02/25/le-probleme-sat/)"
      ]
    },
    {
      "cell_type": "code",
      "metadata": {
        "id": "zUPtLWAXcPrH",
        "colab": {
          "base_uri": "https://localhost:8080/"
        },
        "outputId": "ea3addbd-7cbc-4cf4-a22c-8759c8ea7034"
      },
      "source": [
        "!pip install qiskit\n",
        "!pip install pylatexenc"
      ],
      "execution_count": 1,
      "outputs": [
        {
          "output_type": "stream",
          "name": "stdout",
          "text": [
            "Collecting qiskit\n",
            "  Downloading qiskit-0.31.0.tar.gz (13 kB)\n",
            "Collecting qiskit-terra==0.18.3\n",
            "  Downloading qiskit_terra-0.18.3-cp37-cp37m-manylinux2010_x86_64.whl (6.1 MB)\n",
            "\u001b[K     |████████████████████████████████| 6.1 MB 12.7 MB/s \n",
            "\u001b[?25hCollecting qiskit-aer==0.9.1\n",
            "  Downloading qiskit_aer-0.9.1-cp37-cp37m-manylinux_2_12_x86_64.manylinux2010_x86_64.whl (17.9 MB)\n",
            "\u001b[K     |████████████████████████████████| 17.9 MB 122 kB/s \n",
            "\u001b[?25hCollecting qiskit-ibmq-provider==0.17.0\n",
            "  Downloading qiskit_ibmq_provider-0.17.0-py3-none-any.whl (236 kB)\n",
            "\u001b[K     |████████████████████████████████| 236 kB 78.3 MB/s \n",
            "\u001b[?25hCollecting qiskit-ignis==0.6.0\n",
            "  Downloading qiskit_ignis-0.6.0-py3-none-any.whl (207 kB)\n",
            "\u001b[K     |████████████████████████████████| 207 kB 66.9 MB/s \n",
            "\u001b[?25hCollecting qiskit-aqua==0.9.5\n",
            "  Downloading qiskit_aqua-0.9.5-py3-none-any.whl (2.1 MB)\n",
            "\u001b[K     |████████████████████████████████| 2.1 MB 52.0 MB/s \n",
            "\u001b[?25hRequirement already satisfied: scipy>=1.0 in /usr/local/lib/python3.7/dist-packages (from qiskit-aer==0.9.1->qiskit) (1.4.1)\n",
            "Requirement already satisfied: numpy>=1.16.3 in /usr/local/lib/python3.7/dist-packages (from qiskit-aer==0.9.1->qiskit) (1.19.5)\n",
            "Requirement already satisfied: scikit-learn>=0.20.0 in /usr/local/lib/python3.7/dist-packages (from qiskit-aqua==0.9.5->qiskit) (0.22.2.post1)\n",
            "Collecting docplex>=2.21.207\n",
            "  Downloading docplex-2.22.213.tar.gz (634 kB)\n",
            "\u001b[K     |████████████████████████████████| 634 kB 72.1 MB/s \n",
            "\u001b[?25hRequirement already satisfied: setuptools>=40.1.0 in /usr/local/lib/python3.7/dist-packages (from qiskit-aqua==0.9.5->qiskit) (57.4.0)\n",
            "Requirement already satisfied: pandas in /usr/local/lib/python3.7/dist-packages (from qiskit-aqua==0.9.5->qiskit) (1.1.5)\n",
            "Collecting yfinance>=0.1.62\n",
            "  Downloading yfinance-0.1.64.tar.gz (26 kB)\n",
            "Requirement already satisfied: psutil>=5 in /usr/local/lib/python3.7/dist-packages (from qiskit-aqua==0.9.5->qiskit) (5.4.8)\n",
            "Requirement already satisfied: fastdtw<=0.3.4 in /usr/local/lib/python3.7/dist-packages (from qiskit-aqua==0.9.5->qiskit) (0.3.4)\n",
            "Requirement already satisfied: sympy>=1.3 in /usr/local/lib/python3.7/dist-packages (from qiskit-aqua==0.9.5->qiskit) (1.7.1)\n",
            "Collecting retworkx>=0.8.0\n",
            "  Downloading retworkx-0.10.2-cp37-cp37m-manylinux_2_5_x86_64.manylinux1_x86_64.manylinux_2_12_x86_64.manylinux2010_x86_64.whl (1.4 MB)\n",
            "\u001b[K     |████████████████████████████████| 1.4 MB 59.6 MB/s \n",
            "\u001b[?25hCollecting dlx<=1.0.4\n",
            "  Downloading dlx-1.0.4.tar.gz (5.5 kB)\n",
            "Collecting quandl\n",
            "  Downloading Quandl-3.6.2-py2.py3-none-any.whl (26 kB)\n",
            "Requirement already satisfied: h5py<3.3.0 in /usr/local/lib/python3.7/dist-packages (from qiskit-aqua==0.9.5->qiskit) (3.1.0)\n",
            "Collecting websocket-client>=1.0.1\n",
            "  Downloading websocket_client-1.2.1-py2.py3-none-any.whl (52 kB)\n",
            "\u001b[K     |████████████████████████████████| 52 kB 1.6 MB/s \n",
            "\u001b[?25hRequirement already satisfied: requests>=2.19 in /usr/local/lib/python3.7/dist-packages (from qiskit-ibmq-provider==0.17.0->qiskit) (2.23.0)\n",
            "Requirement already satisfied: urllib3>=1.21.1 in /usr/local/lib/python3.7/dist-packages (from qiskit-ibmq-provider==0.17.0->qiskit) (1.24.3)\n",
            "Collecting requests-ntlm>=1.1.0\n",
            "  Downloading requests_ntlm-1.1.0-py2.py3-none-any.whl (5.7 kB)\n",
            "Requirement already satisfied: python-dateutil>=2.8.0 in /usr/local/lib/python3.7/dist-packages (from qiskit-ibmq-provider==0.17.0->qiskit) (2.8.2)\n",
            "Collecting tweedledum<2.0,>=1.1\n",
            "  Downloading tweedledum-1.1.1-cp37-cp37m-manylinux_2_12_x86_64.manylinux2010_x86_64.whl (943 kB)\n",
            "\u001b[K     |████████████████████████████████| 943 kB 47.3 MB/s \n",
            "\u001b[?25hRequirement already satisfied: jsonschema>=2.6 in /usr/local/lib/python3.7/dist-packages (from qiskit-terra==0.18.3->qiskit) (2.6.0)\n",
            "Collecting ply>=3.10\n",
            "  Downloading ply-3.11-py2.py3-none-any.whl (49 kB)\n",
            "\u001b[K     |████████████████████████████████| 49 kB 6.0 MB/s \n",
            "\u001b[?25hRequirement already satisfied: dill>=0.3 in /usr/local/lib/python3.7/dist-packages (from qiskit-terra==0.18.3->qiskit) (0.3.4)\n",
            "Collecting fastjsonschema>=2.10\n",
            "  Downloading fastjsonschema-2.15.1-py3-none-any.whl (21 kB)\n",
            "Collecting python-constraint>=1.4\n",
            "  Downloading python-constraint-1.4.0.tar.bz2 (18 kB)\n",
            "Collecting symengine>0.7\n",
            "  Downloading symengine-0.8.1-cp37-cp37m-manylinux2010_x86_64.whl (38.2 MB)\n",
            "\u001b[K     |████████████████████████████████| 38.2 MB 20 kB/s \n",
            "\u001b[?25hRequirement already satisfied: six in /usr/local/lib/python3.7/dist-packages (from docplex>=2.21.207->qiskit-aqua==0.9.5->qiskit) (1.15.0)\n",
            "Requirement already satisfied: cached-property in /usr/local/lib/python3.7/dist-packages (from h5py<3.3.0->qiskit-aqua==0.9.5->qiskit) (1.5.2)\n",
            "Requirement already satisfied: chardet<4,>=3.0.2 in /usr/local/lib/python3.7/dist-packages (from requests>=2.19->qiskit-ibmq-provider==0.17.0->qiskit) (3.0.4)\n",
            "Requirement already satisfied: certifi>=2017.4.17 in /usr/local/lib/python3.7/dist-packages (from requests>=2.19->qiskit-ibmq-provider==0.17.0->qiskit) (2021.5.30)\n",
            "Requirement already satisfied: idna<3,>=2.5 in /usr/local/lib/python3.7/dist-packages (from requests>=2.19->qiskit-ibmq-provider==0.17.0->qiskit) (2.10)\n",
            "Collecting ntlm-auth>=1.0.2\n",
            "  Downloading ntlm_auth-1.5.0-py2.py3-none-any.whl (29 kB)\n",
            "Collecting cryptography>=1.3\n",
            "  Downloading cryptography-35.0.0-cp36-abi3-manylinux_2_24_x86_64.whl (3.5 MB)\n",
            "\u001b[K     |████████████████████████████████| 3.5 MB 53.3 MB/s \n",
            "\u001b[?25hRequirement already satisfied: cffi>=1.12 in /usr/local/lib/python3.7/dist-packages (from cryptography>=1.3->requests-ntlm>=1.1.0->qiskit-ibmq-provider==0.17.0->qiskit) (1.14.6)\n",
            "Requirement already satisfied: pycparser in /usr/local/lib/python3.7/dist-packages (from cffi>=1.12->cryptography>=1.3->requests-ntlm>=1.1.0->qiskit-ibmq-provider==0.17.0->qiskit) (2.20)\n",
            "Requirement already satisfied: joblib>=0.11 in /usr/local/lib/python3.7/dist-packages (from scikit-learn>=0.20.0->qiskit-aqua==0.9.5->qiskit) (1.0.1)\n",
            "Requirement already satisfied: mpmath>=0.19 in /usr/local/lib/python3.7/dist-packages (from sympy>=1.3->qiskit-aqua==0.9.5->qiskit) (1.2.1)\n",
            "Requirement already satisfied: multitasking>=0.0.7 in /usr/local/lib/python3.7/dist-packages (from yfinance>=0.1.62->qiskit-aqua==0.9.5->qiskit) (0.0.9)\n",
            "Collecting lxml>=4.5.1\n",
            "  Downloading lxml-4.6.4-cp37-cp37m-manylinux_2_17_x86_64.manylinux2014_x86_64.manylinux_2_24_x86_64.whl (6.3 MB)\n",
            "\u001b[K     |████████████████████████████████| 6.3 MB 33.2 MB/s \n",
            "\u001b[?25hRequirement already satisfied: pytz>=2017.2 in /usr/local/lib/python3.7/dist-packages (from pandas->qiskit-aqua==0.9.5->qiskit) (2018.9)\n",
            "Requirement already satisfied: more-itertools in /usr/local/lib/python3.7/dist-packages (from quandl->qiskit-aqua==0.9.5->qiskit) (8.10.0)\n",
            "Collecting inflection>=0.3.1\n",
            "  Downloading inflection-0.5.1-py2.py3-none-any.whl (9.5 kB)\n",
            "Building wheels for collected packages: qiskit, dlx, docplex, python-constraint, yfinance\n",
            "  Building wheel for qiskit (setup.py) ... \u001b[?25l\u001b[?25hdone\n",
            "  Created wheel for qiskit: filename=qiskit-0.31.0-py3-none-any.whl size=11728 sha256=0a0c28a03a2c2e06337c67943c67d1aba283728ef952be8cb5f31aa3a3a53531\n",
            "  Stored in directory: /root/.cache/pip/wheels/29/dd/b2/1fe1a9ac92aaf75b267d893ae27329ea229f292a293017afc7\n",
            "  Building wheel for dlx (setup.py) ... \u001b[?25l\u001b[?25hdone\n",
            "  Created wheel for dlx: filename=dlx-1.0.4-py3-none-any.whl size=5719 sha256=b746d9d20feb5a7136786233f37311f4b4c2a3f44164a73070abb00c822ce0a7\n",
            "  Stored in directory: /root/.cache/pip/wheels/78/55/c8/dc61e772445a566b7608a476d151e9dcaf4e092b01b0c4bc3c\n",
            "  Building wheel for docplex (setup.py) ... \u001b[?25l\u001b[?25hdone\n",
            "  Created wheel for docplex: filename=docplex-2.22.213-py3-none-any.whl size=696881 sha256=f040ee6b594119acdce34a68b878c483db2add78ba0d7f4b18b55763b301f805\n",
            "  Stored in directory: /root/.cache/pip/wheels/90/69/6b/1375c68a5b7ff94c40263b151c86f58bd72200bf0c465b5ba3\n",
            "  Building wheel for python-constraint (setup.py) ... \u001b[?25l\u001b[?25hdone\n",
            "  Created wheel for python-constraint: filename=python_constraint-1.4.0-py2.py3-none-any.whl size=24081 sha256=6d8a31e0f41ccfac7d38ac4ab03e8bd1bd0f79e318e31793ad110b8d07baf5c3\n",
            "  Stored in directory: /root/.cache/pip/wheels/07/27/db/1222c80eb1e431f3d2199c12569cb1cac60f562a451fe30479\n",
            "  Building wheel for yfinance (setup.py) ... \u001b[?25l\u001b[?25hdone\n",
            "  Created wheel for yfinance: filename=yfinance-0.1.64-py2.py3-none-any.whl size=24109 sha256=cf2c4ec20a00a2c90c72dea69319be4802925fa7a3d10e9c0d83b57442960463\n",
            "  Stored in directory: /root/.cache/pip/wheels/86/fe/9b/a4d3d78796b699e37065e5b6c27b75cff448ddb8b24943c288\n",
            "Successfully built qiskit dlx docplex python-constraint yfinance\n",
            "Installing collected packages: tweedledum, symengine, retworkx, python-constraint, ply, fastjsonschema, qiskit-terra, ntlm-auth, lxml, inflection, cryptography, yfinance, websocket-client, requests-ntlm, quandl, qiskit-ignis, docplex, dlx, qiskit-ibmq-provider, qiskit-aqua, qiskit-aer, qiskit\n",
            "  Attempting uninstall: lxml\n",
            "    Found existing installation: lxml 4.2.6\n",
            "    Uninstalling lxml-4.2.6:\n",
            "      Successfully uninstalled lxml-4.2.6\n",
            "Successfully installed cryptography-35.0.0 dlx-1.0.4 docplex-2.22.213 fastjsonschema-2.15.1 inflection-0.5.1 lxml-4.6.4 ntlm-auth-1.5.0 ply-3.11 python-constraint-1.4.0 qiskit-0.31.0 qiskit-aer-0.9.1 qiskit-aqua-0.9.5 qiskit-ibmq-provider-0.17.0 qiskit-ignis-0.6.0 qiskit-terra-0.18.3 quandl-3.6.2 requests-ntlm-1.1.0 retworkx-0.10.2 symengine-0.8.1 tweedledum-1.1.1 websocket-client-1.2.1 yfinance-0.1.64\n",
            "Collecting pylatexenc\n",
            "  Downloading pylatexenc-2.10.tar.gz (162 kB)\n",
            "\u001b[K     |████████████████████████████████| 162 kB 13.2 MB/s \n",
            "\u001b[?25hBuilding wheels for collected packages: pylatexenc\n",
            "  Building wheel for pylatexenc (setup.py) ... \u001b[?25l\u001b[?25hdone\n",
            "  Created wheel for pylatexenc: filename=pylatexenc-2.10-py3-none-any.whl size=136833 sha256=4899ce59d879d06adaf3e5f03d4e4cf491881a265d140e94a8e2c060365ffc8f\n",
            "  Stored in directory: /root/.cache/pip/wheels/f1/8a/f5/33ee79d4473eb201b519fa40f989b842e373237395a3421f52\n",
            "Successfully built pylatexenc\n",
            "Installing collected packages: pylatexenc\n",
            "Successfully installed pylatexenc-2.10\n"
          ]
        }
      ]
    },
    {
      "cell_type": "code",
      "metadata": {
        "collapsed": true,
        "id": "UKwmuxg3j19h"
      },
      "source": [
        "%matplotlib inline\n",
        "import qiskit as q\n",
        "\n",
        "import matplotlib.pyplot as plt\n",
        "\n",
        "import numpy as np\n",
        "\n",
        "import math\n",
        "import operator\n"
      ],
      "execution_count": 2,
      "outputs": []
    },
    {
      "cell_type": "markdown",
      "metadata": {
        "id": "roQomLQpW4pc"
      },
      "source": [
        "# Test circuit"
      ]
    },
    {
      "cell_type": "markdown",
      "metadata": {
        "id": "hpHujj21bJ-A"
      },
      "source": [
        "# Préparation\n",
        "\n",
        "![sat-pb.png](data:image/png;base64,iVBORw0KGgoAAAANSUhEUgAAAQ4AAAASBAMAAABY/C3CAAAAMFBMVEXu7u4zMzPU1NR+fn5wcHCXl5fJycm7u7uJiYni4uJXV1eioqJlZWWwsLBMTEw+Pj6dPk0PAAADQ0lEQVRIDXVVS2gUQRAtZya7M5lMIoKeB4KgKLqKJHgIjKiHIMJe/CAEFiQhGNA16kUvQwRZBGHjJ0Ev2Zt6W9AcPATm7mU1CEqMxqsghODFm69qft1Jp6CrX1W9edPTXb1LtNOq4c6clvG1yETvaoxZLTIEOj0nHMzBbrNVVysmupbT6eqjOdboeZJqBdoNzKkFE90NFYatYDNkunXi/KUzDaVe1b5WKZRwuIQEel+rFZcZjix1cfeIrrZaJWEnEvptIret1Ow8cJHkkVqMiQfbgHhHvJmeSC0Sf1o8XJwNiTX1BKnHRFrjDQoNjt/wPA8Ial6URXaDwfcuezN9hEvBR/a0IR5OldDVmf6GQitn8nw0D6yY6HIe0CGivkYW+XUGScLeTF/m0oDsm5UwZlMlSFMH3TuwrTGv40NWZ0bxXIR3YVqrex0inILIHnu7SEEN6Up8BZ7M9FUuTfc14Ssgr4+8A8wkgmV6hXyUqlu/XzYJ9Or+a6xK59i6AMj17OgR0APye9CZ2vAj8Lq0ghx9mOlRFTE5bTk0M/0uU8flILHogE65jUJi6ia9RzVVJ38BsqDbiYWXKQbhsL/JiQHZAcuNHV5fIpuDdUEwQvyM7BCTmc7r8Gp0EhPWYdFrgFwibNEFBKk6QEPWMVi32ghKY4k9Evo9XDmioXAoxLSSXmgPOIgRz5FcNzP9Kwj4VeALLoveC1BIbNEWgkydngKDPt/ADCvOhRvvPoWci8bZH6dbPDmOrPcwStKnETYeaTOd+xTtwI9wn1Y7chVSCWuzsolypm61UQL9E6dU66dKfJZ6nHpSY3+DHvLk4gRwKhMLdbKbuDwYvF1mOrc52li2sEPTTi3ghzOJjiu6qfrkt0miUXrxiztSNaddHR1ek8x8yJO9/ocnbx/7xeBvenH48vAw0xNU8jFOd2bHukhkEjT2o8eRqHvNn1FK5ZRqgTwiGdlMPL4pUViw+Ni5xsNIl84JUeWRfhNAGmJakiBTB9b+BqTGLiqQAO+fI8tXsnMKNtLRoqWhTzRbal/UYunobRkOZ7blJuT3Skla5Y7tQj+isKmi0dFZX5pqGVijF7UgLKAZ+FraRNff/FnjG4Iu/QdhYr2M8dILFgAAAABJRU5ErkJggg==)"
      ]
    },
    {
      "cell_type": "code",
      "metadata": {
        "id": "l7nszXgQw6PY"
      },
      "source": [
        "import cv2 as cv\n",
        "from google.colab.patches import cv2_imshow\n",
        "\n",
        "# (x+y+z).(!x+!y).(!x+y+z)\n"
      ],
      "execution_count": 3,
      "outputs": []
    },
    {
      "cell_type": "markdown",
      "metadata": {
        "id": "RhLXlGOgcyuL"
      },
      "source": [
        "# Construction du circuit"
      ]
    },
    {
      "cell_type": "code",
      "metadata": {
        "id": "aiuSRHs5bR8Y"
      },
      "source": [
        "def test1():\n",
        "    circuit = q.QuantumCircuit(10, 4)\n",
        "\n",
        "    circuit.barrier()\n",
        "    circuit.h([0,1,2])\n",
        "\n",
        "    circuit.barrier()\n",
        "    circuit.x([3,4,5])\n",
        "    circuit.cx(0,3)\n",
        "    circuit.cx(1,4)\n",
        "    circuit.cx(2,5)\n",
        "\n",
        "    circuit.barrier()\n",
        "    circuit.cx([0,1,2], 6)\n",
        "\n",
        "    circuit.barrier()\n",
        "    circuit.cx([0+3,1+3], 7)\n",
        "\n",
        "    circuit.barrier()\n",
        "    circuit.cx([0+3,1,2], 8)\n",
        "\n",
        "\n",
        "    circuit.barrier()\n",
        "    circuit.mct([6,7,8], 9)\n",
        "\n",
        "\n",
        "    circuit.barrier()\n",
        "    m = range(0,3)\n",
        "    circuit.measure(m,m)\n",
        "    circuit.measure(9,3)\n",
        "    return circuit\n",
        "    \n",
        "def test2():\n",
        "    circuit = q.QuantumCircuit(10, 4)\n",
        "\n",
        "    circuit.barrier()\n",
        "    circuit.h([0,1,2])\n",
        "\n",
        "    circuit.barrier()\n",
        "    circuit.x([3,4,5])\n",
        "    circuit.cx([0,1,2], [3,4,5])\n",
        "\n",
        "    circuit.barrier()\n",
        "    circuit.mct([0,1,2], 6)\n",
        " \n",
        "    circuit.barrier()\n",
        "    circuit.mct([3,4], 7)\n",
        " \n",
        "    circuit.barrier()\n",
        "    circuit.mct([3,1,2], 8)\n",
        " \n",
        "    circuit.barrier()\n",
        "    circuit.mct([6,7,8], 9)\n",
        "\n",
        "    circuit.barrier()\n",
        "    m = range(0,3)\n",
        "    circuit.measure(m,m)\n",
        "    circuit.measure(9,3)\n",
        "    return circuit\n",
        "\n",
        "def test3():\n",
        "    circuit = q.QuantumCircuit(10, 4)\n",
        "\n",
        "    circuit.barrier()\n",
        "    circuit.h([0,1,2])\n",
        "\n",
        "    circuit.barrier()\n",
        "    circuit.x([3,4,5])\n",
        "    circuit.cx([0,1,2], [3,4,5])\n",
        "\n",
        "    circuit.barrier()\n",
        "    circuit.mct([3,4,5],6)\n",
        " \n",
        "    circuit.barrier()\n",
        "    circuit.mct([0,1],7)\n",
        " \n",
        "    circuit.barrier()\n",
        "    circuit.mct([0,4,5],8)\n",
        "\n",
        "    circuit.barrier()\n",
        "    circuit.x([6,7,8])\n",
        "\n",
        "    circuit.barrier()\n",
        "    circuit.mct([6,7,8],9)\n",
        "\n",
        "    circuit.barrier()\n",
        "    m = range(0,3)\n",
        "    circuit.measure(m,m)\n",
        "    circuit.measure(9,3)\n",
        "    return circuit\n",
        "\n",
        "circuit = test3()"
      ],
      "execution_count": 4,
      "outputs": []
    },
    {
      "cell_type": "markdown",
      "metadata": {
        "id": "AA7kFFo5dNUL"
      },
      "source": [
        "#  Affichage du circuit"
      ]
    },
    {
      "cell_type": "code",
      "metadata": {
        "id": "aescxVJdcwdJ",
        "colab": {
          "base_uri": "https://localhost:8080/",
          "height": 290
        },
        "outputId": "abe11ecf-f5f6-423f-ec1d-b97a8f95cae4"
      },
      "source": [
        "#print(circuit.draw(output='text'))\n",
        "style = { \"figwidth\" : 50 }\n",
        "circuit.draw(output='mpl', scale=0.5)#style=style)"
      ],
      "execution_count": 5,
      "outputs": [
        {
          "output_type": "execute_result",
          "data": {
            "image/png": "[encoded data removed]",
            "text/plain": [
              "<Figure size 705.499x343.14 with 1 Axes>"
            ]
          },
          "metadata": {},
          "execution_count": 5
        }
      ]
    },
    {
      "cell_type": "markdown",
      "metadata": {
        "id": "EL0DycV4dX_a"
      },
      "source": [
        "# Exécution, Résultats et visualisation\n",
        "\n",
        "![sat-sol.png](data:image/png;base64,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)"
      ]
    },
    {
      "cell_type": "code",
      "metadata": {
        "id": "5npEfJ-NcwxH",
        "colab": {
          "base_uri": "https://localhost:8080/",
          "height": 383
        },
        "outputId": "30ad33c2-4ccc-4187-e46b-23703d5e5afa"
      },
      "source": [
        "repeat = 1000\n",
        "\n",
        "simulator = q.Aer.get_backend('qasm_simulator')\n",
        "\n",
        "simulator.set_options(method=\"matrix_product_state\")\n",
        "\n",
        "job = q.execute(circuit, simulator, shots=repeat)\n",
        "\n",
        "result = job.result()\n",
        "\n",
        "counts = result.get_counts(circuit)\n",
        "print(\"Nombre de '0'et de '1':\",counts)\n",
        "\n",
        "sorted_counts = dict( sorted(counts.items(), key=operator.itemgetter(1), reverse=True))\n",
        "print(sorted_counts)\n",
        "\n",
        "q.visualization.plot_histogram(counts)\n"
      ],
      "execution_count": 6,
      "outputs": [
        {
          "output_type": "stream",
          "name": "stdout",
          "text": [
            "Nombre de '0'et de '1': {'1101': 121, '1010': 101, '0000': 119, '0111': 133, '0011': 128, '1110': 138, '1100': 127, '0001': 133}\n",
            "{'1110': 138, '0111': 133, '0001': 133, '0011': 128, '1100': 127, '1101': 121, '0000': 119, '1010': 101}\n"
          ]
        },
        {
          "output_type": "execute_result",
          "data": {
            "image/png": "[encoded data removed]",
            "text/plain": [
              "<Figure size 504x360 with 1 Axes>"
            ]
          },
          "metadata": {},
          "execution_count": 6
        }
      ]
    },
    {
      "cell_type": "code",
      "metadata": {
        "id": "t4C5XOr-ijgV",
        "colab": {
          "base_uri": "https://localhost:8080/",
          "height": 371
        },
        "outputId": "ffb61e7f-90e4-4a58-c14d-0a5320ba37d9"
      },
      "source": [
        "import qiskit.tools.jupyter\n",
        "%qiskit_version_table"
      ],
      "execution_count": 7,
      "outputs": [
        {
          "output_type": "stream",
          "name": "stderr",
          "text": [
            "/usr/local/lib/python3.7/dist-packages/qiskit/aqua/__init__.py:86: DeprecationWarning: The package qiskit.aqua is deprecated. It was moved/refactored to qiskit-terra For more information see <https://github.com/Qiskit/qiskit-aqua/blob/main/README.md#migration-guide>\n",
            "  warn_package('aqua', 'qiskit-terra')\n"
          ]
        },
        {
          "output_type": "display_data",
          "data": {
            "text/html": [
              "<h3>Version Information</h3><table><tr><th>Qiskit Software</th><th>Version</th></tr><tr><td><code>qiskit-terra</code></td><td>0.18.3</td></tr><tr><td><code>qiskit-aer</code></td><td>0.9.1</td></tr><tr><td><code>qiskit-ignis</code></td><td>0.6.0</td></tr><tr><td><code>qiskit-ibmq-provider</code></td><td>0.17.0</td></tr><tr><td><code>qiskit-aqua</code></td><td>0.9.5</td></tr><tr><th>System information</th></tr><tr><td>Python</td><td>3.7.12 (default, Sep 10 2021, 00:21:48) \n",
              "[GCC 7.5.0]</td></tr><tr><td>OS</td><td>Linux</td></tr><tr><td>CPUs</td><td>1</td></tr><tr><td>Memory (Gb)</td><td>12.686656951904297</td></tr><tr><td colspan='2'>Sun Nov 07 20:25:33 2021 UTC</td></tr></table>"
            ],
            "text/plain": [
              "<IPython.core.display.HTML object>"
            ]
          },
          "metadata": {}
        }
      ]
    }
  ]
}