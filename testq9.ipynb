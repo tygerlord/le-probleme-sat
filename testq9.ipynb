{
  "nbformat": 4,
  "nbformat_minor": 0,
  "metadata": {
    "colab": {
      "name": "testq9.ipynb",
      "provenance": [],
      "collapsed_sections": [
        "roQomLQpW4pc"
      ],
      "toc_visible": true,
      "authorship_tag": "ABX9TyPujAn05vLiTPaR9q82BZDO",
      "include_colab_link": true
    },
    "kernelspec": {
      "name": "python3",
      "display_name": "Python 3"
    },
    "language_info": {
      "name": "python"
    }
  },
  "cells": [
    {
      "cell_type": "markdown",
      "metadata": {
        "id": "view-in-github",
        "colab_type": "text"
      },
      "source": [
        "<a href=\"https://colab.research.google.com/github/tygerlord/le-probleme-sat/blob/main/testq9.ipynb\" target=\"_parent\"><img src=\"https://colab.research.google.com/assets/colab-badge.svg\" alt=\"Open In Colab\"/></a>"
      ]
    },
    {
      "cell_type": "markdown",
      "metadata": {
        "id": "_nFbeLJYjudn"
      },
      "source": [
        "[le problème sat](https://blog.pasithee.fr/2013/02/25/le-probleme-sat/)"
      ]
    },
    {
      "cell_type": "code",
      "metadata": {
        "id": "zUPtLWAXcPrH"
      },
      "source": [
        "!pip install qiskit\n",
        "!pip install pylatexenc"
      ],
      "execution_count": null,
      "outputs": []
    },
    {
      "cell_type": "code",
      "metadata": {
        "collapsed": true,
        "id": "UKwmuxg3j19h"
      },
      "source": [
        "%matplotlib inline\n",
        "import qiskit as q\n",
        "\n",
        "import matplotlib.pyplot as plt\n",
        "\n",
        "import numpy as np\n",
        "\n",
        "import math\n",
        "import operator\n"
      ],
      "execution_count": 16,
      "outputs": []
    },
    {
      "cell_type": "markdown",
      "metadata": {
        "id": "roQomLQpW4pc"
      },
      "source": [
        "# Test circuit"
      ]
    },
    {
      "cell_type": "markdown",
      "metadata": {
        "id": "hpHujj21bJ-A"
      },
      "source": [
        "# Préparation\n",
        "\n",
        "![sat-pb.png](data:image/png;base64,iVBORw0KGgoAAAANSUhEUgAAAQ4AAAASBAMAAABY/C3CAAAAMFBMVEXu7u4zMzPU1NR+fn5wcHCXl5fJycm7u7uJiYni4uJXV1eioqJlZWWwsLBMTEw+Pj6dPk0PAAADQ0lEQVRIDXVVS2gUQRAtZya7M5lMIoKeB4KgKLqKJHgIjKiHIMJe/CAEFiQhGNA16kUvQwRZBGHjJ0Ev2Zt6W9AcPATm7mU1CEqMxqsghODFm69qft1Jp6CrX1W9edPTXb1LtNOq4c6clvG1yETvaoxZLTIEOj0nHMzBbrNVVysmupbT6eqjOdboeZJqBdoNzKkFE90NFYatYDNkunXi/KUzDaVe1b5WKZRwuIQEel+rFZcZjix1cfeIrrZaJWEnEvptIret1Ow8cJHkkVqMiQfbgHhHvJmeSC0Sf1o8XJwNiTX1BKnHRFrjDQoNjt/wPA8Ial6URXaDwfcuezN9hEvBR/a0IR5OldDVmf6GQitn8nw0D6yY6HIe0CGivkYW+XUGScLeTF/m0oDsm5UwZlMlSFMH3TuwrTGv40NWZ0bxXIR3YVqrex0inILIHnu7SEEN6Up8BZ7M9FUuTfc14Ssgr4+8A8wkgmV6hXyUqlu/XzYJ9Or+a6xK59i6AMj17OgR0APye9CZ2vAj8Lq0ghx9mOlRFTE5bTk0M/0uU8flILHogE65jUJi6ia9RzVVJ38BsqDbiYWXKQbhsL/JiQHZAcuNHV5fIpuDdUEwQvyM7BCTmc7r8Gp0EhPWYdFrgFwibNEFBKk6QEPWMVi32ghKY4k9Evo9XDmioXAoxLSSXmgPOIgRz5FcNzP9Kwj4VeALLoveC1BIbNEWgkydngKDPt/ADCvOhRvvPoWci8bZH6dbPDmOrPcwStKnETYeaTOd+xTtwI9wn1Y7chVSCWuzsolypm61UQL9E6dU66dKfJZ6nHpSY3+DHvLk4gRwKhMLdbKbuDwYvF1mOrc52li2sEPTTi3ghzOJjiu6qfrkt0miUXrxiztSNaddHR1ek8x8yJO9/ocnbx/7xeBvenH48vAw0xNU8jFOd2bHukhkEjT2o8eRqHvNn1FK5ZRqgTwiGdlMPL4pUViw+Ni5xsNIl84JUeWRfhNAGmJakiBTB9b+BqTGLiqQAO+fI8tXsnMKNtLRoqWhTzRbal/UYunobRkOZ7blJuT3Skla5Y7tQj+isKmi0dFZX5pqGVijF7UgLKAZ+FraRNff/FnjG4Iu/QdhYr2M8dILFgAAAABJRU5ErkJggg==)"
      ]
    },
    {
      "cell_type": "code",
      "metadata": {
        "id": "l7nszXgQw6PY"
      },
      "source": [
        "import cv2 as cv\n",
        "from google.colab.patches import cv2_imshow\n",
        "\n",
        "# (x+y+z).(!x+!y).(!x+y+z)\n"
      ],
      "execution_count": 17,
      "outputs": []
    },
    {
      "cell_type": "markdown",
      "metadata": {
        "id": "RhLXlGOgcyuL"
      },
      "source": [
        "# Construction du circuit"
      ]
    },
    {
      "cell_type": "code",
      "metadata": {
        "id": "aiuSRHs5bR8Y"
      },
      "source": [
        "def test1():\n",
        "    circuit = q.QuantumCircuit(10, 4)\n",
        "\n",
        "    circuit.barrier()\n",
        "    circuit.h([0,1,2])\n",
        "\n",
        "    circuit.barrier()\n",
        "    circuit.x([3,4,5])\n",
        "    circuit.cx(0,3)\n",
        "    circuit.cx(1,4)\n",
        "    circuit.cx(2,5)\n",
        "\n",
        "    circuit.barrier()\n",
        "    circuit.cx([0,1,2], 6)\n",
        "\n",
        "    circuit.barrier()\n",
        "    circuit.cx([0+3,1+3], 7)\n",
        "\n",
        "    circuit.barrier()\n",
        "    circuit.cx([0+3,1,2], 8)\n",
        "\n",
        "\n",
        "    circuit.barrier()\n",
        "    circuit.mct([6,7,8], 9)\n",
        "\n",
        "\n",
        "    circuit.barrier()\n",
        "    m = range(0,3)\n",
        "    circuit.measure(m,m)\n",
        "    circuit.measure(9,3)\n",
        "    return circuit\n",
        "    \n",
        "def test2():\n",
        "    circuit = q.QuantumCircuit(10, 4)\n",
        "\n",
        "    circuit.barrier()\n",
        "    circuit.h([0,1,2])\n",
        "\n",
        "    circuit.barrier()\n",
        "    circuit.x([3,4,5])\n",
        "    circuit.cx([0,1,2], [3,4,5])\n",
        "\n",
        "    circuit.barrier()\n",
        "    circuit.mct([0,1,2], 6)\n",
        " \n",
        "    circuit.barrier()\n",
        "    circuit.mct([3,4], 7)\n",
        " \n",
        "    circuit.barrier()\n",
        "    circuit.mct([3,1,2], 8)\n",
        " \n",
        "    circuit.barrier()\n",
        "    circuit.mct([6,7,8], 9)\n",
        "\n",
        "    circuit.barrier()\n",
        "    m = range(0,3)\n",
        "    circuit.measure(m,m)\n",
        "    circuit.measure(9,3)\n",
        "    return circuit\n",
        "\n",
        "def test3():\n",
        "    circuit = q.QuantumCircuit(10, 4)\n",
        "\n",
        "    circuit.barrier()\n",
        "    circuit.h([0,1,2])\n",
        "\n",
        "    circuit.barrier()\n",
        "    circuit.x([3,4,5])\n",
        "    circuit.cx([0,1,2], [3,4,5])\n",
        "\n",
        "    circuit.barrier()\n",
        "    circuit.mct([3,4,5],6)\n",
        " \n",
        "    circuit.barrier()\n",
        "    circuit.mct([0,1],7)\n",
        " \n",
        "    circuit.barrier()\n",
        "    circuit.mct([0,4,5],8)\n",
        "\n",
        "    circuit.barrier()\n",
        "    circuit.x([6,7,8])\n",
        "\n",
        "    circuit.barrier()\n",
        "    circuit.mct([6,7,8],9)\n",
        "\n",
        "    circuit.barrier()\n",
        "    m = range(0,3)\n",
        "    circuit.measure(m,m)\n",
        "    circuit.measure(9,3)\n",
        "    return circuit\n",
        "\n",
        "circuit = test3()"
      ],
      "execution_count": 18,
      "outputs": []
    },
    {
      "cell_type": "markdown",
      "metadata": {
        "id": "AA7kFFo5dNUL"
      },
      "source": [
        "#  Affichage du circuit"
      ]
    },
    {
      "cell_type": "code",
      "metadata": {
        "id": "aescxVJdcwdJ",
        "colab": {
          "base_uri": "https://localhost:8080/",
          "height": 290
        },
        "outputId": "2b86e204-9493-48c3-a58c-6ce580a28e11"
      },
      "source": [
        "#print(circuit.draw(output='text'))\n",
        "style = { \"figwidth\" : 50 }\n",
        "circuit.draw(output='mpl', scale=0.5)#style=style)"
      ],
      "execution_count": 19,
      "outputs": [
        {
          "output_type": "execute_result",
          "data": {
            "image/png": "[encoded data removed]",
            "text/plain": [
              "<Figure size 705.499x343.14 with 1 Axes>"
            ]
          },
          "metadata": {},
          "execution_count": 19
        }
      ]
    },
    {
      "cell_type": "markdown",
      "metadata": {
        "id": "EL0DycV4dX_a"
      },
      "source": [
        "# Exécution, Résultats et visualisation\n",
        "\n",
        "Table de véritée de F, résultat attendu.\n",
        "\n",
        "![sat-sol.png](data:image/png;base64,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)"
      ]
    },
    {
      "cell_type": "code",
      "metadata": {
        "id": "5npEfJ-NcwxH",
        "colab": {
          "base_uri": "https://localhost:8080/",
          "height": 385
        },
        "outputId": "99d4fdf5-89e1-41ec-e4f8-ea4deca40349"
      },
      "source": [
        "repeat = 1000\n",
        "\n",
        "simulator = q.Aer.get_backend('qasm_simulator')\n",
        "\n",
        "simulator.set_options(method=\"matrix_product_state\")\n",
        "\n",
        "job = q.execute(circuit, simulator, shots=repeat)\n",
        "\n",
        "result = job.result()\n",
        "\n",
        "counts = result.get_counts(circuit)\n",
        "print(\"Nombre de '0'et de '1':\",counts)\n",
        "\n",
        "sorted_counts = dict( sorted(counts.items(), key=operator.itemgetter(1), reverse=True))\n",
        "print(sorted_counts)\n",
        "\n",
        "q.visualization.plot_histogram(counts)\n"
      ],
      "execution_count": 20,
      "outputs": [
        {
          "output_type": "stream",
          "name": "stdout",
          "text": [
            "Nombre de '0'et de '1': {'1101': 117, '0111': 118, '0011': 130, '0000': 118, '1100': 115, '1010': 133, '0001': 135, '1110': 134}\n",
            "{'0001': 135, '1110': 134, '1010': 133, '0011': 130, '0111': 118, '0000': 118, '1101': 117, '1100': 115}\n"
          ]
        },
        {
          "output_type": "execute_result",
          "data": {
            "image/png": "[encoded data removed]",
            "text/plain": [
              "<Figure size 504x360 with 1 Axes>"
            ]
          },
          "metadata": {},
          "execution_count": 20
        }
      ]
    },
    {
      "cell_type": "markdown",
      "metadata": {
        "id": "6EX-OibeJSHI"
      },
      "source": [
        "Le 4ième bit indique le résultat de F pour les valeurs des 3 premiers bits\n",
        "\n",
        "ex)\n",
        "0101 F=1 pour x=0, y=1, z=0\n",
        "\n",
        "\n",
        "\n",
        "```\n",
        "XYZF | XYZ | F\n",
        "--------------\n",
        "0101 | 010 | 1\n",
        "0011 | 001 | 1\n",
        "1011 | 101 | 1\n",
        "0111 | 011 | 1\n",
        "```\n",
        "\n",
        "On retrouve nos 4 solutions du tableau précédent\n"
      ]
    },
    {
      "cell_type": "code",
      "metadata": {
        "id": "t4C5XOr-ijgV",
        "colab": {
          "base_uri": "https://localhost:8080/",
          "height": 316
        },
        "outputId": "3da602a9-5f4e-44e7-c355-1efe73b4903e"
      },
      "source": [
        "import qiskit.tools.jupyter\n",
        "%qiskit_version_table"
      ],
      "execution_count": 21,
      "outputs": [
        {
          "output_type": "display_data",
          "data": {
            "text/html": [
              "<h3>Version Information</h3><table><tr><th>Qiskit Software</th><th>Version</th></tr><tr><td><code>qiskit-terra</code></td><td>0.18.3</td></tr><tr><td><code>qiskit-aer</code></td><td>0.9.1</td></tr><tr><td><code>qiskit-ignis</code></td><td>0.6.0</td></tr><tr><td><code>qiskit-ibmq-provider</code></td><td>0.17.0</td></tr><tr><td><code>qiskit-aqua</code></td><td>0.9.5</td></tr><tr><th>System information</th></tr><tr><td>Python</td><td>3.7.12 (default, Sep 10 2021, 00:21:48) \n",
              "[GCC 7.5.0]</td></tr><tr><td>OS</td><td>Linux</td></tr><tr><td>CPUs</td><td>1</td></tr><tr><td>Memory (Gb)</td><td>12.686656951904297</td></tr><tr><td colspan='2'>Sun Nov 07 20:47:25 2021 UTC</td></tr></table>"
            ],
            "text/plain": [
              "<IPython.core.display.HTML object>"
            ]
          },
          "metadata": {}
        }
      ]
    }
  ]
}