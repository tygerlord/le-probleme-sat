{
  "nbformat": 4,
  "nbformat_minor": 0,
  "metadata": {
    "colab": {
      "name": "testq9.ipynb",
      "provenance": [],
      "collapsed_sections": [
        "roQomLQpW4pc"
      ],
      "toc_visible": true,
      "authorship_tag": "ABX9TyPZRMbmngh+oMV823PG/kK7",
      "include_colab_link": true
    },
    "kernelspec": {
      "name": "python3",
      "display_name": "Python 3"
    },
    "language_info": {
      "name": "python"
    }
  },
  "cells": [
    {
      "cell_type": "markdown",
      "metadata": {
        "id": "view-in-github",
        "colab_type": "text"
      },
      "source": [
        "<a href=\"https://colab.research.google.com/github/tygerlord/le-probleme-sat/blob/main/testq9.ipynb\" target=\"_parent\"><img src=\"https://colab.research.google.com/assets/colab-badge.svg\" alt=\"Open In Colab\"/></a>"
      ]
    },
    {
      "cell_type": "markdown",
      "metadata": {
        "id": "_nFbeLJYjudn"
      },
      "source": [
        "[le problème sat](https://blog.pasithee.fr/2013/02/25/le-probleme-sat/)"
      ]
    },
    {
      "cell_type": "code",
      "metadata": {
        "id": "zUPtLWAXcPrH"
      },
      "source": [
        "!pip install qiskit\n",
        "!pip install pylatexenc"
      ],
      "execution_count": null,
      "outputs": []
    },
    {
      "cell_type": "code",
      "metadata": {
        "collapsed": true,
        "id": "UKwmuxg3j19h"
      },
      "source": [
        "%matplotlib inline\n",
        "import qiskit as q\n",
        "\n",
        "import matplotlib.pyplot as plt\n",
        "\n",
        "import numpy as np\n",
        "\n",
        "import math\n",
        "import operator\n"
      ],
      "execution_count": 3,
      "outputs": []
    },
    {
      "cell_type": "markdown",
      "metadata": {
        "id": "roQomLQpW4pc"
      },
      "source": [
        "# Test circuit"
      ]
    },
    {
      "cell_type": "markdown",
      "metadata": {
        "id": "hpHujj21bJ-A"
      },
      "source": [
        "# Préparation\n",
        "\n",
        "![sat-pb.png](data:image/png;base64,iVBORw0KGgoAAAANSUhEUgAAAQ4AAAASBAMAAABY/C3CAAAAMFBMVEXu7u4zMzPU1NR+fn5wcHCXl5fJycm7u7uJiYni4uJXV1eioqJlZWWwsLBMTEw+Pj6dPk0PAAADQ0lEQVRIDXVVS2gUQRAtZya7M5lMIoKeB4KgKLqKJHgIjKiHIMJe/CAEFiQhGNA16kUvQwRZBGHjJ0Ev2Zt6W9AcPATm7mU1CEqMxqsghODFm69qft1Jp6CrX1W9edPTXb1LtNOq4c6clvG1yETvaoxZLTIEOj0nHMzBbrNVVysmupbT6eqjOdboeZJqBdoNzKkFE90NFYatYDNkunXi/KUzDaVe1b5WKZRwuIQEel+rFZcZjix1cfeIrrZaJWEnEvptIret1Ow8cJHkkVqMiQfbgHhHvJmeSC0Sf1o8XJwNiTX1BKnHRFrjDQoNjt/wPA8Ial6URXaDwfcuezN9hEvBR/a0IR5OldDVmf6GQitn8nw0D6yY6HIe0CGivkYW+XUGScLeTF/m0oDsm5UwZlMlSFMH3TuwrTGv40NWZ0bxXIR3YVqrex0inILIHnu7SEEN6Up8BZ7M9FUuTfc14Ssgr4+8A8wkgmV6hXyUqlu/XzYJ9Or+a6xK59i6AMj17OgR0APye9CZ2vAj8Lq0ghx9mOlRFTE5bTk0M/0uU8flILHogE65jUJi6ia9RzVVJ38BsqDbiYWXKQbhsL/JiQHZAcuNHV5fIpuDdUEwQvyM7BCTmc7r8Gp0EhPWYdFrgFwibNEFBKk6QEPWMVi32ghKY4k9Evo9XDmioXAoxLSSXmgPOIgRz5FcNzP9Kwj4VeALLoveC1BIbNEWgkydngKDPt/ADCvOhRvvPoWci8bZH6dbPDmOrPcwStKnETYeaTOd+xTtwI9wn1Y7chVSCWuzsolypm61UQL9E6dU66dKfJZ6nHpSY3+DHvLk4gRwKhMLdbKbuDwYvF1mOrc52li2sEPTTi3ghzOJjiu6qfrkt0miUXrxiztSNaddHR1ek8x8yJO9/ocnbx/7xeBvenH48vAw0xNU8jFOd2bHukhkEjT2o8eRqHvNn1FK5ZRqgTwiGdlMPL4pUViw+Ni5xsNIl84JUeWRfhNAGmJakiBTB9b+BqTGLiqQAO+fI8tXsnMKNtLRoqWhTzRbal/UYunobRkOZ7blJuT3Skla5Y7tQj+isKmi0dFZX5pqGVijF7UgLKAZ+FraRNff/FnjG4Iu/QdhYr2M8dILFgAAAABJRU5ErkJggg==)"
      ]
    },
    {
      "cell_type": "code",
      "metadata": {
        "id": "l7nszXgQw6PY"
      },
      "source": [
        "import cv2 as cv\n",
        "from google.colab.patches import cv2_imshow\n",
        "\n",
        "# (x+y+z).(!x+!y).(!x+y+z)\n"
      ],
      "execution_count": 4,
      "outputs": []
    },
    {
      "cell_type": "markdown",
      "metadata": {
        "id": "RhLXlGOgcyuL"
      },
      "source": [
        "# Construction du circuit\n",
        "\n",
        "réécriture de F ( j'ai pas trouvé le OU )\n",
        "\n",
        "![image.png](data:image/png;base64,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)"
      ]
    },
    {
      "cell_type": "code",
      "metadata": {
        "id": "aiuSRHs5bR8Y"
      },
      "source": [
        "def test1():\n",
        "    circuit = q.QuantumCircuit(10, 4)\n",
        "\n",
        "    circuit.barrier()\n",
        "    circuit.h([0,1,2])\n",
        "\n",
        "    circuit.barrier()\n",
        "    circuit.x([3,4,5])\n",
        "    circuit.cx(0,3)\n",
        "    circuit.cx(1,4)\n",
        "    circuit.cx(2,5)\n",
        "\n",
        "    circuit.barrier()\n",
        "    circuit.cx([0,1,2], 6)\n",
        "\n",
        "    circuit.barrier()\n",
        "    circuit.cx([0+3,1+3], 7)\n",
        "\n",
        "    circuit.barrier()\n",
        "    circuit.cx([0+3,1,2], 8)\n",
        "\n",
        "\n",
        "    circuit.barrier()\n",
        "    circuit.mct([6,7,8], 9)\n",
        "\n",
        "\n",
        "    circuit.barrier()\n",
        "    m = range(0,3)\n",
        "    circuit.measure(m,m)\n",
        "    circuit.measure(9,3)\n",
        "    return circuit\n",
        "    \n",
        "def test2():\n",
        "    circuit = q.QuantumCircuit(10, 4)\n",
        "\n",
        "    circuit.barrier()\n",
        "    circuit.h([0,1,2])\n",
        "    circuit.x([3,4,5])\n",
        "\n",
        "    circuit.barrier()\n",
        "    circuit.cx([0,1,2], [3,4,5])\n",
        "\n",
        "    circuit.barrier()\n",
        "    circuit.cx([0,1,2], 6)\n",
        " \n",
        "    circuit.barrier()\n",
        "    circuit.cx([3,4], 7)\n",
        " \n",
        "    circuit.barrier()\n",
        "    circuit.cx([3,1,2], 8)\n",
        " \n",
        "    circuit.barrier()\n",
        "    circuit.mct([6,7,8], 9)\n",
        "\n",
        "    circuit.barrier()\n",
        "    m = range(0,3)\n",
        "    circuit.measure(m,m)\n",
        "    circuit.measure(9,3)\n",
        "    return circuit\n",
        "\n",
        "def test3():\n",
        "    circuit = q.QuantumCircuit(10, 4)\n",
        "\n",
        "    circuit.barrier()\n",
        "    circuit.h([0,1,2])\n",
        "    circuit.x([3,4,5])\n",
        "\n",
        "    circuit.barrier()\n",
        "    circuit.cx([0,1,2], [3,4,5])\n",
        "\n",
        "    circuit.barrier()\n",
        "    circuit.mct([3,4,5],6)\n",
        " \n",
        "    circuit.barrier()\n",
        "    circuit.mct([0,1],7)\n",
        " \n",
        "    circuit.barrier()\n",
        "    circuit.mct([0,4,5],8)\n",
        "\n",
        "    circuit.barrier()\n",
        "    circuit.x([6,7,8])\n",
        "\n",
        "    circuit.barrier()\n",
        "    circuit.mct([6,7,8],9)\n",
        "\n",
        "    circuit.barrier()\n",
        "    m = range(0,3)\n",
        "    circuit.measure(m,m)\n",
        "    circuit.measure(9,3)\n",
        "    return circuit\n",
        "\n",
        "circuit = test3()"
      ],
      "execution_count": 5,
      "outputs": []
    },
    {
      "cell_type": "markdown",
      "metadata": {
        "id": "AA7kFFo5dNUL"
      },
      "source": [
        "#  Affichage du circuit"
      ]
    },
    {
      "cell_type": "code",
      "metadata": {
        "id": "aescxVJdcwdJ",
        "colab": {
          "base_uri": "https://localhost:8080/",
          "height": 290
        },
        "outputId": "79a6718b-5c04-4c82-aba9-9cf02ea27b74"
      },
      "source": [
        "#print(circuit.draw(output='text'))\n",
        "style = { \"figwidth\" : 50 }\n",
        "circuit.draw(output='mpl', scale=0.5)#style=style)"
      ],
      "execution_count": 6,
      "outputs": [
        {
          "output_type": "execute_result",
          "data": {
            "image/png": "[encoded data removed]",
            "text/plain": [
              "<Figure size 675.399x343.14 with 1 Axes>"
            ]
          },
          "metadata": {},
          "execution_count": 6
        }
      ]
    },
    {
      "cell_type": "markdown",
      "metadata": {
        "id": "EL0DycV4dX_a"
      },
      "source": [
        "# Exécution, Résultats et visualisation\n",
        "\n",
        "Table de vérité de F, résultat attendu.\n",
        "\n",
        "![sat-sol.png](data:image/png;base64,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)"
      ]
    },
    {
      "cell_type": "code",
      "metadata": {
        "id": "5npEfJ-NcwxH",
        "colab": {
          "base_uri": "https://localhost:8080/",
          "height": 385
        },
        "outputId": "5a08d159-884e-437c-9638-cfb04e235de9"
      },
      "source": [
        "repeat = 100\n",
        "\n",
        "simulator = q.Aer.get_backend('qasm_simulator')\n",
        "\n",
        "simulator.set_options(method=\"matrix_product_state\")\n",
        "\n",
        "job = q.execute(circuit, simulator, shots=repeat)\n",
        "\n",
        "result = job.result()\n",
        "\n",
        "counts = result.get_counts(circuit)\n",
        "print(\"Nombre de '0'et de '1':\",counts)\n",
        "\n",
        "sorted_counts = dict( sorted(counts.items(), key=operator.itemgetter(1), reverse=True))\n",
        "print(sorted_counts)\n",
        "\n",
        "q.visualization.plot_histogram(counts)\n"
      ],
      "execution_count": 7,
      "outputs": [
        {
          "output_type": "stream",
          "name": "stdout",
          "text": [
            "Nombre de '0'et de '1': {'1010': 11, '0001': 13, '1101': 11, '1110': 11, '0000': 23, '0011': 12, '0111': 12, '1100': 7}\n",
            "{'0000': 23, '0001': 13, '0011': 12, '0111': 12, '1010': 11, '1101': 11, '1110': 11, '1100': 7}\n"
          ]
        },
        {
          "output_type": "execute_result",
          "data": {
            "image/png": "[encoded data removed]",
            "text/plain": [
              "<Figure size 504x360 with 1 Axes>"
            ]
          },
          "metadata": {},
          "execution_count": 7
        }
      ]
    },
    {
      "cell_type": "markdown",
      "metadata": {
        "id": "6EX-OibeJSHI"
      },
      "source": [
        "Le 4ième bit indique le résultat de F pour les valeurs des 3 premiers bits\n",
        "\n",
        "ex)\n",
        "0101 F=1 pour x=0, y=1, z=0\n",
        "\n",
        "\n",
        "\n",
        "```\n",
        "XYZF | XYZ | F\n",
        "--------------\n",
        "0101 | 010 | 1\n",
        "0011 | 001 | 1\n",
        "1011 | 101 | 1\n",
        "0111 | 011 | 1\n",
        "```\n",
        "\n",
        "On retrouve nos 4 solutions du tableau précédent\n"
      ]
    },
    {
      "cell_type": "code",
      "metadata": {
        "id": "t4C5XOr-ijgV",
        "colab": {
          "base_uri": "https://localhost:8080/",
          "height": 378
        },
        "outputId": "5b565bc6-b99a-443d-fb1d-c700c72620e7"
      },
      "source": [
        "import qiskit.tools.jupyter\n",
        "%qiskit_version_table"
      ],
      "execution_count": 8,
      "outputs": [
        {
          "output_type": "stream",
          "name": "stderr",
          "text": [
            "/usr/local/lib/python3.7/dist-packages/qiskit/aqua/__init__.py:86: DeprecationWarning: The package qiskit.aqua is deprecated. It was moved/refactored to qiskit-terra For more information see <https://github.com/Qiskit/qiskit-aqua/blob/main/README.md#migration-guide>\n",
            "  warn_package('aqua', 'qiskit-terra')\n"
          ]
        },
        {
          "output_type": "display_data",
          "data": {
            "text/html": [
              "<h3>Version Information</h3><table><tr><th>Qiskit Software</th><th>Version</th></tr><tr><td><code>qiskit-terra</code></td><td>0.18.3</td></tr><tr><td><code>qiskit-aer</code></td><td>0.9.1</td></tr><tr><td><code>qiskit-ignis</code></td><td>0.6.0</td></tr><tr><td><code>qiskit-ibmq-provider</code></td><td>0.17.0</td></tr><tr><td><code>qiskit-aqua</code></td><td>0.9.5</td></tr><tr><th>System information</th></tr><tr><td>Python</td><td>3.7.12 (default, Sep 10 2021, 00:21:48) \n",
              "[GCC 7.5.0]</td></tr><tr><td>OS</td><td>Linux</td></tr><tr><td>CPUs</td><td>1</td></tr><tr><td>Memory (Gb)</td><td>12.686649322509766</td></tr><tr><td colspan='2'>Tue Nov 09 13:33:56 2021 UTC</td></tr></table>"
            ],
            "text/plain": [
              "<IPython.core.display.HTML object>"
            ]
          },
          "metadata": {}
        }
      ]
    }
  ]
}